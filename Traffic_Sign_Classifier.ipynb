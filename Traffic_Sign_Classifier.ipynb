{
 "cells": [
  {
   "cell_type": "markdown",
   "metadata": {
    "deletable": true,
    "editable": true
   },
   "source": [
    "# Self-Driving Car Engineer Nanodegree\n",
    "\n",
    "## Deep Learning\n",
    "\n",
    "## Project: Build a Traffic Sign Recognition Classifier\n",
    "\n",
    "In this notebook, a template is provided for you to implement your functionality in stages, which is required to successfully complete this project. If additional code is required that cannot be included in the notebook, be sure that the Python code is successfully imported and included in your submission if necessary. \n",
    "\n",
    "> **Note**: Once you have completed all of the code implementations, you need to finalize your work by exporting the iPython Notebook as an HTML document. Before exporting the notebook to html, all of the code cells need to have been run so that reviewers can see the final implementation and output. You can then export the notebook by using the menu above and navigating to  \\n\",\n",
    "    \"**File -> Download as -> HTML (.html)**. Include the finished document along with this notebook as your submission. \n",
    "\n",
    "In addition to implementing code, there is a writeup to complete. The writeup should be completed in a separate file, which can be either a markdown file or a pdf document. There is a [write up template](https://github.com/udacity/CarND-Traffic-Sign-Classifier-Project/blob/master/writeup_template.md) that can be used to guide the writing process. Completing the code template and writeup template will cover all of the [rubric points](https://review.udacity.com/#!/rubrics/481/view) for this project.\n",
    "\n",
    "The [rubric](https://review.udacity.com/#!/rubrics/481/view) contains \"Stand Out Suggestions\" for enhancing the project beyond the minimum requirements. The stand out suggestions are optional. If you decide to pursue the \"stand out suggestions\", you can include the code in this Ipython notebook and also discuss the results in the writeup file.\n",
    "\n",
    "\n",
    ">**Note:** Code and Markdown cells can be executed using the **Shift + Enter** keyboard shortcut. In addition, Markdown cells can be edited by typically double-clicking the cell to enter edit mode."
   ]
  },
  {
   "cell_type": "markdown",
   "metadata": {
    "deletable": true,
    "editable": true
   },
   "source": [
    "---\n",
    "## Step 0: Load The Data"
   ]
  },
  {
   "cell_type": "code",
   "execution_count": 1,
   "metadata": {
    "collapsed": false,
    "deletable": true,
    "editable": true
   },
   "outputs": [
    {
     "name": "stdout",
     "output_type": "stream",
     "text": [
      "Completed label_mapping Loading\n"
     ]
    }
   ],
   "source": [
    "import pickle\n",
    "import csv\n",
    "\n",
    "#Load the Images and labels\n",
    "training_file = 'data/train.p'\n",
    "validation_file= 'data/valid.p'\n",
    "testing_file = 'data/test.p'\n",
    "\n",
    "with open(training_file, mode='rb') as f:\n",
    "    train = pickle.load(f)\n",
    "with open(validation_file, mode='rb') as f:\n",
    "    valid = pickle.load(f)\n",
    "with open(testing_file, mode='rb') as f:\n",
    "    test = pickle.load(f)\n",
    "    \n",
    "X_train, y_train = train['features'], train['labels']\n",
    "X_valid, y_valid = valid['features'], valid['labels']\n",
    "X_test, y_test = test['features'], test['labels']\n",
    "\n",
    "#In memory load the mapping of label to text\n",
    "label_mapping = [\"\"]*43\n",
    "with open('signnames.csv') as csvfile:\n",
    "    reader = csv.DictReader(csvfile)\n",
    "    for row in reader:\n",
    "        label_mapping[int(row['ClassId'])] = row['SignName']\n",
    "        \n",
    "print(\"Completed label_mapping Loading\")\n"
   ]
  },
  {
   "cell_type": "markdown",
   "metadata": {
    "deletable": true,
    "editable": true
   },
   "source": [
    "---\n",
    "\n",
    "## Step 1: Dataset Summary & Exploration\n",
    "\n",
    "The pickled data is a dictionary with 4 key/value pairs:\n",
    "\n",
    "- `'features'` is a 4D array containing raw pixel data of the traffic sign images, (num examples, width, height, channels).\n",
    "- `'labels'` is a 1D array containing the label/class id of the traffic sign. The file `signnames.csv` contains id -> name mappings for each id.\n",
    "- `'sizes'` is a list containing tuples, (width, height) representing the original width and height the image.\n",
    "- `'coords'` is a list containing tuples, (x1, y1, x2, y2) representing coordinates of a bounding box around the sign in the image. **THESE COORDINATES ASSUME THE ORIGINAL IMAGE. THE PICKLED DATA CONTAINS RESIZED VERSIONS (32 by 32) OF THESE IMAGES**\n",
    "\n",
    "Complete the basic data summary below. Use python, numpy and/or pandas methods to calculate the data summary rather than hard coding the results. For example, the [pandas shape method](http://pandas.pydata.org/pandas-docs/stable/generated/pandas.DataFrame.shape.html) might be useful for calculating some of the summary results. "
   ]
  },
  {
   "cell_type": "markdown",
   "metadata": {
    "deletable": true,
    "editable": true
   },
   "source": [
    "### Provide a Basic Summary of the Data Set Using Python, Numpy and/or Pandas"
   ]
  },
  {
   "cell_type": "code",
   "execution_count": 2,
   "metadata": {
    "collapsed": false,
    "deletable": true,
    "editable": true
   },
   "outputs": [
    {
     "name": "stdout",
     "output_type": "stream",
     "text": [
      "Number of training examples = 34799\n",
      "Number of testing examples = 12630\n",
      "Numner of validation examples =  4410\n",
      "Image data shape = (32, 32, 3)\n",
      "Number of classes = 43\n"
     ]
    }
   ],
   "source": [
    "import numpy\n",
    "\n",
    "assert(len(X_train) == len(y_train))\n",
    "assert(len(X_valid) == len(y_valid))\n",
    "assert(len(X_test) == len(y_test))\n",
    "\n",
    "n_train = len(X_train)\n",
    "\n",
    "n_test = len(X_test)\n",
    "\n",
    "n_valid = len(X_valid)\n",
    "\n",
    "image_shape = X_train[0].shape\n",
    "\n",
    "n_classes = numpy.unique(y_train).size\n",
    "\n",
    "print(\"Number of training examples =\", n_train)\n",
    "print(\"Number of testing examples =\", n_test)\n",
    "print(\"Numner of validation examples = \", n_valid)\n",
    "print(\"Image data shape =\", image_shape)\n",
    "print(\"Number of classes =\", n_classes)"
   ]
  },
  {
   "cell_type": "markdown",
   "metadata": {
    "deletable": true,
    "editable": true
   },
   "source": [
    "### Include an exploratory visualization of the dataset"
   ]
  },
  {
   "cell_type": "markdown",
   "metadata": {
    "deletable": true,
    "editable": true
   },
   "source": [
    "Visualize the German Traffic Signs Dataset using the pickled file(s). This is open ended, suggestions include: plotting traffic sign images, plotting the count of each sign, etc.\n",
    "\n",
    "The [Matplotlib](http://matplotlib.org/) [examples](http://matplotlib.org/examples/index.html) and [gallery](http://matplotlib.org/gallery.html) pages are a great resource for doing visualizations in Python.\n",
    "\n",
    "**NOTE:** It's recommended you start with something simple first. If you wish to do more, come back to it after you've completed the rest of the sections."
   ]
  },
  {
   "cell_type": "code",
   "execution_count": 3,
   "metadata": {
    "collapsed": false,
    "deletable": true,
    "editable": true
   },
   "outputs": [
    {
     "name": "stdout",
     "output_type": "stream",
     "text": [
      "Keep right\n"
     ]
    },
    {
     "data": {
      "text/plain": [
       "<matplotlib.image.AxesImage at 0x12772ba20>"
      ]
     },
     "execution_count": 3,
     "metadata": {},
     "output_type": "execute_result"
    },
    {
     "data": {
      "image/png": "[encoded data removed]",
      "text/plain": [
       "<matplotlib.figure.Figure at 0x10687acf8>"
      ]
     },
     "metadata": {},
     "output_type": "display_data"
    }
   ],
   "source": [
    "### Data exploration visualization code goes here.\n",
    "### Feel free to use as many code cells as needed.\n",
    "import matplotlib.pyplot as plt\n",
    "import random\n",
    "import cv2\n",
    "import numpy\n",
    "\n",
    "import matplotlib.pyplot as plt\n",
    "# Visualizations will be shown in the notebook.\n",
    "%matplotlib inline\n",
    "\n",
    "#Plot a random image\n",
    "index = random.randint(0, len(X_train))\n",
    "image = X_train[index]\n",
    "print(label_mapping[y_train[index]])\n",
    "plt.imshow(image)"
   ]
  },
  {
   "cell_type": "markdown",
   "metadata": {
    "deletable": true,
    "editable": true
   },
   "source": [
    "### Check count of each label"
   ]
  },
  {
   "cell_type": "code",
   "execution_count": 4,
   "metadata": {
    "collapsed": false,
    "deletable": true,
    "editable": true
   },
   "outputs": [
    {
     "name": "stdout",
     "output_type": "stream",
     "text": [
      "[180, 1980, 2010, 1260, 1770, 1650, 360, 1290, 1260, 1320, 1800, 1170, 1890, 1920, 690, 540, 360, 990, 1080, 180, 300, 270, 330, 450, 240, 1350, 540, 210, 480, 240, 390, 690, 210, 599, 360, 1080, 330, 180, 1860, 270, 300, 210, 210]\n"
     ]
    },
    {
     "data": {
      "image/png": "[encoded data removed]",
      "text/plain": [
       "<matplotlib.figure.Figure at 0x1277754a8>"
      ]
     },
     "metadata": {},
     "output_type": "display_data"
    }
   ],
   "source": [
    "label_list = y_train.tolist()\n",
    "label_count = [label_list.count(y) for y in range(n_classes)]\n",
    "\n",
    "plt.bar(range(n_classes),label_count)\n",
    "print(label_count)"
   ]
  },
  {
   "cell_type": "markdown",
   "metadata": {
    "deletable": true,
    "editable": true
   },
   "source": [
    "## Step 2: Design and Test a Model Architecture\n",
    "\n",
    "Design and implement a deep learning model that learns to recognize traffic signs. Train and test your model on the [German Traffic Sign Dataset](http://benchmark.ini.rub.de/?section=gtsrb&subsection=dataset).\n",
    "\n",
    "The LeNet-5 implementation shown in the [classroom](https://classroom.udacity.com/nanodegrees/nd013/parts/fbf77062-5703-404e-b60c-95b78b2f3f9e/modules/6df7ae49-c61c-4bb2-a23e-6527e69209ec/lessons/601ae704-1035-4287-8b11-e2c2716217ad/concepts/d4aca031-508f-4e0b-b493-e7b706120f81) at the end of the CNN lesson is a solid starting point. You'll have to change the number of classes and possibly the preprocessing, but aside from that it's plug and play! \n",
    "\n",
    "With the LeNet-5 solution from the lecture, you should expect a validation set accuracy of about 0.89. To meet specifications, the validation set accuracy will need to be at least 0.93. It is possible to get an even higher accuracy, but 0.93 is the minimum for a successful project submission. \n",
    "\n",
    "There are various aspects to consider when thinking about this problem:\n",
    "\n",
    "- Neural network architecture (is the network over or underfitting?)\n",
    "- Play around preprocessing techniques (normalization, rgb to grayscale, etc)\n",
    "- Number of examples per label (some have more than others).\n",
    "- Generate fake data.\n",
    "\n",
    "Here is an example of a [published baseline model on this problem](http://yann.lecun.com/exdb/publis/pdf/sermanet-ijcnn-11.pdf). It's not required to be familiar with the approach used in the paper but, it's good practice to try to read papers like these."
   ]
  },
  {
   "cell_type": "markdown",
   "metadata": {
    "deletable": true,
    "editable": true
   },
   "source": [
    "### Pre-process the Data Set (normalization, grayscale, etc.)"
   ]
  },
  {
   "cell_type": "markdown",
   "metadata": {
    "deletable": true,
    "editable": true
   },
   "source": [
    "Use the code cell (or multiple code cells, if necessary) to implement the first step of your project."
   ]
  },
  {
   "cell_type": "markdown",
   "metadata": {
    "deletable": true,
    "editable": true
   },
   "source": [
    "### Augment the data that occured less"
   ]
  },
  {
   "cell_type": "code",
   "execution_count": 5,
   "metadata": {
    "collapsed": true,
    "deletable": true,
    "editable": true
   },
   "outputs": [],
   "source": [
    "import scipy.ndimage\n",
    "\n",
    "def create_variant(image):\n",
    "    if (random.choice([True, False])):\n",
    "        image = scipy.ndimage.interpolation.shift(image, [random.randrange(-2, 2), random.randrange(-2, 2), 0])\n",
    "    else:\n",
    "        image = scipy.ndimage.interpolation.rotate(image, random.randrange(-10, 10), reshape=False)\n",
    "    return image\n"
   ]
  },
  {
   "cell_type": "code",
   "execution_count": 8,
   "metadata": {
    "collapsed": false,
    "deletable": true,
    "editable": true
   },
   "outputs": [
    {
     "name": "stdout",
     "output_type": "stream",
     "text": [
      "Class 0 occuring 180 times should be augmented 11 fold\n",
      "Class 1 occuring 1980 times should be augmented 1 fold\n",
      "Class 2 occuring 2010 times should be augmented 0 fold\n",
      "Class 3 occuring 1260 times should be augmented 1 fold\n",
      "Class 4 occuring 1770 times should be augmented 1 fold\n",
      "Class 5 occuring 1650 times should be augmented 1 fold\n",
      "Class 6 occuring 360 times should be augmented 5 fold\n",
      "Class 7 occuring 1290 times should be augmented 1 fold\n",
      "Class 8 occuring 1260 times should be augmented 1 fold\n",
      "Class 9 occuring 1320 times should be augmented 1 fold\n",
      "Class 10 occuring 1800 times should be augmented 1 fold\n",
      "Class 11 occuring 1170 times should be augmented 1 fold\n",
      "Class 12 occuring 1890 times should be augmented 1 fold\n",
      "Class 13 occuring 1920 times should be augmented 1 fold\n",
      "Class 14 occuring 690 times should be augmented 2 fold\n",
      "Class 15 occuring 540 times should be augmented 3 fold\n",
      "Class 16 occuring 360 times should be augmented 5 fold\n",
      "Class 17 occuring 990 times should be augmented 2 fold\n",
      "Class 18 occuring 1080 times should be augmented 1 fold\n",
      "Class 19 occuring 180 times should be augmented 11 fold\n",
      "Class 20 occuring 300 times should be augmented 6 fold\n",
      "Class 21 occuring 270 times should be augmented 7 fold\n",
      "Class 22 occuring 330 times should be augmented 6 fold\n",
      "Class 23 occuring 450 times should be augmented 4 fold\n",
      "Class 24 occuring 240 times should be augmented 8 fold\n",
      "Class 25 occuring 1350 times should be augmented 1 fold\n",
      "Class 26 occuring 540 times should be augmented 3 fold\n",
      "Class 27 occuring 210 times should be augmented 9 fold\n",
      "Class 28 occuring 480 times should be augmented 4 fold\n",
      "Class 29 occuring 240 times should be augmented 8 fold\n",
      "Class 30 occuring 390 times should be augmented 5 fold\n",
      "Class 31 occuring 690 times should be augmented 2 fold\n",
      "Class 32 occuring 210 times should be augmented 9 fold\n",
      "Class 33 occuring 599 times should be augmented 3 fold\n",
      "Class 34 occuring 360 times should be augmented 5 fold\n",
      "Class 35 occuring 1080 times should be augmented 1 fold\n",
      "Class 36 occuring 330 times should be augmented 6 fold\n",
      "Class 37 occuring 180 times should be augmented 11 fold\n",
      "Class 38 occuring 1860 times should be augmented 1 fold\n",
      "Class 39 occuring 270 times should be augmented 7 fold\n",
      "Class 40 occuring 300 times should be augmented 6 fold\n",
      "Class 41 occuring 210 times should be augmented 9 fold\n",
      "Class 42 occuring 210 times should be augmented 9 fold\n"
     ]
    }
   ],
   "source": [
    "import math\n",
    "\n",
    "sample_per_class = 2000\n",
    "\n",
    "for i in range(n_classes):\n",
    "    multiplier = math.floor(sample_per_class/label_count[i])\n",
    "    print(\"Class {} occuring {} times should be augmented {} fold\".format(i,label_count[i],multiplier))"
   ]
  },
  {
   "cell_type": "markdown",
   "metadata": {},
   "source": [
    "We will now created augmented data and plot the new distribution"
   ]
  },
  {
   "cell_type": "code",
   "execution_count": 10,
   "metadata": {
    "collapsed": false,
    "deletable": true,
    "editable": true
   },
   "outputs": [
    {
     "name": "stdout",
     "output_type": "stream",
     "text": [
      "[180, 1980, 2010, 1260, 1770, 1650, 360, 1290, 1260, 1320, 1800, 1170, 1890, 1920, 690, 540, 360, 990, 1080, 180, 300, 270, 330, 450, 240, 1350, 540, 210, 480, 240, 390, 690, 210, 599, 360, 1080, 330, 180, 1860, 270, 300, 210, 210]\n"
     ]
    },
    {
     "data": {
      "image/png": "[encoded data removed]",
      "text/plain": [
       "<matplotlib.figure.Figure at 0x1279005f8>"
      ]
     },
     "metadata": {},
     "output_type": "display_data"
    }
   ],
   "source": [
    "import math\n",
    "\n",
    "augmented_image = []\n",
    "augmented_labels = []\n",
    "\n",
    "image_count = 0\n",
    "for image, label in zip(X_train,y_train):    \n",
    "    multiplier = math.floor(sample_per_class/label_count[label])\n",
    "    image_count = image_count + 1\n",
    "    augmented_image.append(image)\n",
    "    augmented_labels.append(label)\n",
    "    for i in range(multiplier):\n",
    "        augmented_image.append(create_variant(image))\n",
    "        augmented_labels.append(label)\n",
    "        \n",
    "augmented_list = (numpy.array(augmented_labels)).tolist()\n",
    "augmented_count = [augmented_list.count(y) for y in range(n_classes)]\n",
    "\n",
    "plt.bar(range(n_classes),augmented_count)\n",
    "print(label_count)\n",
    "        "
   ]
  },
  {
   "cell_type": "code",
   "execution_count": 37,
   "metadata": {
    "collapsed": false,
    "deletable": true,
    "editable": true
   },
   "outputs": [],
   "source": [
    "from sklearn.utils import shuffle\n",
    "from numpy import newaxis\n",
    "import cv2\n",
    "import numpy as np\n",
    "\n",
    "\n",
    "\n",
    "#Shuffle training data\n",
    "X_train_shuffled, y_train_shuffled = shuffle(augmented_image, augmented_labels)\n",
    "\n",
    "# convert to B/W\n",
    "X_train_bw = numpy.array([cv2.cvtColor(image, cv2.COLOR_RGB2GRAY) for image in X_train_shuffled])\n",
    "X_test_bw = numpy.array([cv2.cvtColor(image, cv2.COLOR_RGB2GRAY) for image in X_test])\n",
    "X_valid_bw = numpy.array([cv2.cvtColor(image, cv2.COLOR_RGB2GRAY) for image in X_valid])\n",
    "\n",
    "# apply histogram equalization\n",
    "X_train_hst_eq = numpy.array([cv2.equalizeHist(image) for image in X_train_bw])\n",
    "X_test_hst_eq = numpy.array([cv2.equalizeHist(image) for image in X_test_bw])\n",
    "X_valid_hst_eq = numpy.array([cv2.equalizeHist(image) for image in X_valid_bw])\n",
    "\n",
    "# reshape for conv layer\n",
    "X_train_reshaped = X_train_hst_eq[..., newaxis]\n",
    "X_test_reshaped = X_test_hst_eq[..., newaxis]\n",
    "X_valid_reshaped = X_valid_hst_eq[..., newaxis]\n",
    "\n",
    "# normalize range\n",
    "X_train_normalized = X_train_reshaped - np.mean(X_train_reshaped)\n",
    "X_test_normalized = X_test_reshaped - np.mean(X_test_reshaped)\n",
    "X_valid_normalized = X_valid_reshaped - np.mean(X_valid_reshaped)\n"
   ]
  },
  {
   "cell_type": "markdown",
   "metadata": {
    "deletable": true,
    "editable": true
   },
   "source": [
    "### Model Architecture"
   ]
  },
  {
   "cell_type": "code",
   "execution_count": 38,
   "metadata": {
    "collapsed": false,
    "deletable": true,
    "editable": true
   },
   "outputs": [],
   "source": [
    "import tensorflow as tf\n",
    "from tensorflow.contrib.layers import flatten\n",
    "\n",
    "EPOCHS = 30\n",
    "BATCH_SIZE = 50\n",
    "\n",
    "def LeNet(x):    \n",
    "    # Arguments used for tf.truncated_normal, randomly defines variables for the weights and biases for each layer\n",
    "    mu = 0\n",
    "    sigma = 0.1\n",
    "    \n",
    "    # Layer 1: Convolutional. Input = 32x32x1. Output = 28x28x12.\n",
    "    conv1_W = tf.Variable(tf.truncated_normal(shape=(5, 5, 1, 12), mean = mu, stddev = sigma))\n",
    "    conv1_b = tf.Variable(tf.zeros(12))\n",
    "    conv1 = tf.nn.conv2d(x, conv1_W, strides=[1, 1, 1, 1], padding='VALID') + conv1_b\n",
    "\n",
    "    # Activation.\n",
    "    activation1 = tf.nn.relu(conv1)\n",
    "    \n",
    "    # Pooling. Input = 28x28x12. Output = 14x14x12.\n",
    "    pool1 = tf.nn.max_pool(activation1, ksize=[1, 2, 2, 1], strides=[1, 2, 2, 1], padding='VALID')\n",
    "\n",
    "    # Layer 2: Convolutional. Output = 10x10x32.\n",
    "    conv2_W = tf.Variable(tf.truncated_normal(shape=(5,5,12,32), mean = mu, stddev = sigma))\n",
    "    conv2_b = tf.Variable(tf.zeros(32))\n",
    "    conv2 = tf.nn.conv2d(pool1, conv2_W, strides=[1, 1, 1, 1], padding='VALID') + conv2_b\n",
    "    \n",
    "    # Activation.\n",
    "    activation2 = tf.nn.relu(conv2)\n",
    "    \n",
    "    # Pooling. Input = 10x10x32. Output = 5x5x32.\n",
    "    pool2 = tf.nn.max_pool(activation2, ksize=[1, 2, 2, 1], strides=[1, 2, 2, 1], padding='VALID')\n",
    "\n",
    "    # Flatten. Input = 5x5x32. Output = 800.\n",
    "    flat_data = flatten(pool2)\n",
    "    flat_dropped_data = tf.nn.dropout(flat_data, 0.8)\n",
    "    \n",
    "    # Layer 3: Fully Connected. Input = 800. Output = 120.\n",
    "    fc1_W = tf.Variable(tf.truncated_normal(shape=(800, 120), mean = mu, stddev = sigma))\n",
    "    fc1_b = tf.Variable(tf.zeros(120))\n",
    "    fc1   = tf.matmul(flat_dropped_data, fc1_W) + fc1_b\n",
    "    \n",
    "    # Activation.\n",
    "    activation2 = tf.nn.relu(fc1)\n",
    "\n",
    "    # Layer 4: Fully Connected. Input = 200. Output = 84.\n",
    "    fc2_W = tf.Variable(tf.truncated_normal(shape=(120, 84), mean = mu, stddev = sigma))\n",
    "    fc2_b = tf.Variable(tf.zeros(84))\n",
    "    fc2   = tf.matmul(activation2, fc2_W) + fc2_b\n",
    "    \n",
    "    # Activation.\n",
    "    activation3 = tf.nn.relu(fc2)\n",
    "    \n",
    "    # Layer 5: Fully Connected. Input = 84. Output = 43.\n",
    "    fc3_W = tf.Variable(tf.truncated_normal(shape=(84, 43), mean = mu, stddev = sigma))\n",
    "    fc3_b = tf.Variable(tf.zeros(43))\n",
    "    fc3   = tf.matmul(activation3, fc3_W) + fc3_b\n",
    "    \n",
    "    return fc3\n"
   ]
  },
  {
   "cell_type": "markdown",
   "metadata": {
    "deletable": true,
    "editable": true
   },
   "source": [
    "### Train, Validate and Test the Model"
   ]
  },
  {
   "cell_type": "markdown",
   "metadata": {
    "deletable": true,
    "editable": true
   },
   "source": [
    "A validation set can be used to assess how well the model is performing. A low accuracy on the training and validation\n",
    "sets imply underfitting. A high accuracy on the training set but low accuracy on the validation set implies overfitting."
   ]
  },
  {
   "cell_type": "markdown",
   "metadata": {
    "deletable": true,
    "editable": true
   },
   "source": [
    "### Features"
   ]
  },
  {
   "cell_type": "code",
   "execution_count": 39,
   "metadata": {
    "collapsed": true,
    "deletable": true,
    "editable": true
   },
   "outputs": [],
   "source": [
    "x = tf.placeholder(tf.float32, (None, 32, 32, 1))\n",
    "y = tf.placeholder(tf.int32, (None))\n",
    "one_hot_y = tf.one_hot(y, 43)"
   ]
  },
  {
   "cell_type": "markdown",
   "metadata": {
    "deletable": true,
    "editable": true
   },
   "source": [
    "\n",
    "### Training Pipeline"
   ]
  },
  {
   "cell_type": "code",
   "execution_count": 40,
   "metadata": {
    "collapsed": false,
    "deletable": true,
    "editable": true
   },
   "outputs": [],
   "source": [
    "rate = 0.0008\n",
    "\n",
    "logits = LeNet(x)\n",
    "cross_entropy = tf.nn.softmax_cross_entropy_with_logits(logits, one_hot_y)\n",
    "loss_operation = tf.reduce_mean(cross_entropy)\n",
    "optimizer = tf.train.AdamOptimizer(learning_rate = rate)\n",
    "training_operation = optimizer.minimize(loss_operation)\n"
   ]
  },
  {
   "cell_type": "markdown",
   "metadata": {
    "deletable": true,
    "editable": true
   },
   "source": [
    "# Model Evaluation"
   ]
  },
  {
   "cell_type": "code",
   "execution_count": 41,
   "metadata": {
    "collapsed": false,
    "deletable": true,
    "editable": true
   },
   "outputs": [],
   "source": [
    "correct_prediction = tf.equal(tf.argmax(logits, 1), tf.argmax(one_hot_y, 1))\n",
    "accuracy_operation = tf.reduce_mean(tf.cast(correct_prediction, tf.float32))\n",
    "\n",
    "def evaluate(X_data, y_data):\n",
    "    num_examples = len(X_data)\n",
    "    total_accuracy = 0\n",
    "    sess = tf.get_default_session()\n",
    "    for offset in range(0, num_examples, BATCH_SIZE):\n",
    "        batch_x, batch_y = X_data[offset:offset+BATCH_SIZE], y_data[offset:offset+BATCH_SIZE]\n",
    "        accuracy = sess.run(accuracy_operation, feed_dict={x: batch_x, y: batch_y})\n",
    "        total_accuracy += (accuracy * len(batch_x))\n",
    "    return total_accuracy / num_examples\n"
   ]
  },
  {
   "cell_type": "markdown",
   "metadata": {
    "deletable": true,
    "editable": true
   },
   "source": [
    "## Train the Model\n",
    "Run the training data through the training pipeline to train the model.\n",
    "\n",
    "Before each epoch, shuffle the training set.\n",
    "\n",
    "After each epoch, measure the loss and accuracy of the validation set.\n",
    "\n",
    "Save the model after training.\n",
    "\n",
    "You do not need to modify this section."
   ]
  },
  {
   "cell_type": "code",
   "execution_count": 44,
   "metadata": {
    "collapsed": false,
    "deletable": true,
    "editable": true,
    "scrolled": false
   },
   "outputs": [
    {
     "name": "stdout",
     "output_type": "stream",
     "text": [
      "Training...\n",
      "\n",
      "EPOCH 1/30 ...\n",
      "Training Accuracy = 0.565\n",
      "Validation Accuracy = 0.545\n",
      "Batch Size = 50\n",
      "Time taken = 30.720502853393555\n",
      "Learning rate = 0.0008\n",
      "EPOCH 2/30 ...\n",
      "Training Accuracy = 0.778\n",
      "Validation Accuracy = 0.746\n",
      "Batch Size = 50\n",
      "Time taken = 33.59123206138611\n",
      "Learning rate = 0.0008\n",
      "EPOCH 3/30 ...\n",
      "Training Accuracy = 0.863\n",
      "Validation Accuracy = 0.825\n",
      "Batch Size = 50\n",
      "Time taken = 34.34221386909485\n",
      "Learning rate = 0.0008\n",
      "EPOCH 4/30 ...\n",
      "Training Accuracy = 0.888\n",
      "Validation Accuracy = 0.844\n",
      "Batch Size = 50\n",
      "Time taken = 33.280846118927\n",
      "Learning rate = 0.0008\n",
      "EPOCH 5/30 ...\n",
      "Training Accuracy = 0.927\n",
      "Validation Accuracy = 0.884\n",
      "Batch Size = 50\n",
      "Time taken = 32.97348189353943\n",
      "Learning rate = 0.0008\n",
      "EPOCH 6/30 ...\n",
      "Training Accuracy = 0.930\n",
      "Validation Accuracy = 0.887\n",
      "Batch Size = 50\n",
      "Time taken = 33.24687480926514\n",
      "Learning rate = 0.0008\n",
      "EPOCH 7/30 ...\n",
      "Training Accuracy = 0.940\n",
      "Validation Accuracy = 0.900\n",
      "Batch Size = 50\n",
      "Time taken = 33.56092715263367\n",
      "Learning rate = 0.0008\n",
      "EPOCH 8/30 ...\n",
      "Training Accuracy = 0.948\n",
      "Validation Accuracy = 0.907\n",
      "Batch Size = 50\n",
      "Time taken = 33.355133056640625\n",
      "Learning rate = 0.0008\n",
      "EPOCH 9/30 ...\n",
      "Training Accuracy = 0.949\n",
      "Validation Accuracy = 0.902\n",
      "Batch Size = 50\n",
      "Time taken = 34.56886100769043\n",
      "Learning rate = 0.0008\n",
      "EPOCH 10/30 ...\n",
      "Training Accuracy = 0.946\n",
      "Validation Accuracy = 0.912\n",
      "Batch Size = 50\n",
      "Time taken = 34.703227043151855\n",
      "Learning rate = 0.0008\n",
      "EPOCH 11/30 ...\n",
      "Training Accuracy = 0.950\n",
      "Validation Accuracy = 0.913\n",
      "Batch Size = 50\n",
      "Time taken = 33.36292290687561\n",
      "Learning rate = 0.0008\n",
      "EPOCH 12/30 ...\n",
      "Training Accuracy = 0.952\n",
      "Validation Accuracy = 0.908\n",
      "Batch Size = 50\n",
      "Time taken = 33.63987493515015\n",
      "Learning rate = 0.0008\n",
      "EPOCH 13/30 ...\n",
      "Training Accuracy = 0.962\n",
      "Validation Accuracy = 0.914\n",
      "Batch Size = 50\n",
      "Time taken = 33.33893179893494\n",
      "Learning rate = 0.0008\n",
      "EPOCH 14/30 ...\n",
      "Training Accuracy = 0.962\n",
      "Validation Accuracy = 0.921\n",
      "Batch Size = 50\n",
      "Time taken = 34.41620588302612\n",
      "Learning rate = 0.0008\n",
      "EPOCH 15/30 ...\n",
      "Training Accuracy = 0.951\n",
      "Validation Accuracy = 0.922\n",
      "Batch Size = 50\n",
      "Time taken = 33.09257507324219\n",
      "Learning rate = 0.0008\n",
      "EPOCH 16/30 ...\n",
      "Training Accuracy = 0.967\n",
      "Validation Accuracy = 0.934\n",
      "Batch Size = 50\n",
      "Time taken = 34.22825217247009\n",
      "Learning rate = 0.0008\n",
      "EPOCH 17/30 ...\n",
      "Training Accuracy = 0.968\n",
      "Validation Accuracy = 0.931\n",
      "Batch Size = 50\n",
      "Time taken = 33.01066184043884\n",
      "Learning rate = 0.0008\n",
      "EPOCH 18/30 ...\n",
      "Training Accuracy = 0.975\n",
      "Validation Accuracy = 0.932\n",
      "Batch Size = 50\n",
      "Time taken = 33.966946840286255\n",
      "Learning rate = 0.0008\n",
      "EPOCH 19/30 ...\n",
      "Training Accuracy = 0.972\n",
      "Validation Accuracy = 0.935\n",
      "Batch Size = 50\n",
      "Time taken = 33.538630962371826\n",
      "Learning rate = 0.0008\n",
      "EPOCH 20/30 ...\n",
      "Training Accuracy = 0.962\n",
      "Validation Accuracy = 0.921\n",
      "Batch Size = 50\n",
      "Time taken = 33.0969021320343\n",
      "Learning rate = 0.0008\n",
      "EPOCH 21/30 ...\n",
      "Training Accuracy = 0.969\n",
      "Validation Accuracy = 0.923\n",
      "Batch Size = 50\n",
      "Time taken = 32.905757188797\n",
      "Learning rate = 0.0008\n",
      "EPOCH 22/30 ...\n",
      "Training Accuracy = 0.969\n",
      "Validation Accuracy = 0.933\n",
      "Batch Size = 50\n",
      "Time taken = 33.55663204193115\n",
      "Learning rate = 0.0008\n",
      "EPOCH 23/30 ...\n",
      "Training Accuracy = 0.969\n",
      "Validation Accuracy = 0.927\n",
      "Batch Size = 50\n",
      "Time taken = 33.02293395996094\n",
      "Learning rate = 0.0008\n",
      "EPOCH 24/30 ...\n",
      "Training Accuracy = 0.974\n",
      "Validation Accuracy = 0.939\n",
      "Batch Size = 50\n",
      "Time taken = 34.31140899658203\n",
      "Learning rate = 0.0008\n",
      "EPOCH 25/30 ...\n",
      "Training Accuracy = 0.969\n",
      "Validation Accuracy = 0.930\n",
      "Batch Size = 50\n",
      "Time taken = 33.90179920196533\n",
      "Learning rate = 0.0008\n",
      "EPOCH 26/30 ...\n",
      "Training Accuracy = 0.966\n",
      "Validation Accuracy = 0.931\n",
      "Batch Size = 50\n",
      "Time taken = 33.689210176467896\n",
      "Learning rate = 0.0008\n",
      "EPOCH 27/30 ...\n",
      "Training Accuracy = 0.965\n",
      "Validation Accuracy = 0.932\n",
      "Batch Size = 50\n",
      "Time taken = 34.41374492645264\n",
      "Learning rate = 0.0008\n",
      "EPOCH 28/30 ...\n",
      "Training Accuracy = 0.960\n",
      "Validation Accuracy = 0.929\n",
      "Batch Size = 50\n",
      "Time taken = 34.099339962005615\n",
      "Learning rate = 0.0008\n",
      "EPOCH 29/30 ...\n",
      "Training Accuracy = 0.976\n",
      "Validation Accuracy = 0.943\n",
      "Batch Size = 50\n",
      "Time taken = 34.18773412704468\n",
      "Learning rate = 0.0008\n",
      "EPOCH 30/30 ...\n",
      "Training Accuracy = 0.978\n",
      "Validation Accuracy = 0.949\n",
      "Batch Size = 50\n",
      "Time taken = 34.34185290336609\n",
      "Learning rate = 0.0008\n",
      "\n",
      "\n",
      "Now running Testing\n",
      "Testing Accuracy = 0.918\n"
     ]
    }
   ],
   "source": [
    "import time\n",
    "saver = tf.train.Saver()\n",
    "\n",
    "with tf.Session() as sess:\n",
    "    sess.run(tf.global_variables_initializer())\n",
    "    num_examples = len(X_train)\n",
    "    \n",
    "    print(\"Training...\")\n",
    "    print()\n",
    "    for i in range(EPOCHS):\n",
    "        start_time = time.time()\n",
    "        for offset in range(0, num_examples, BATCH_SIZE):\n",
    "            end = offset + BATCH_SIZE\n",
    "            batch_x, batch_y = X_train_normalized[offset:end], y_train_shuffled[offset:end]\n",
    "            sess.run(training_operation, feed_dict={x: batch_x, y: batch_y})\n",
    "            \n",
    "        valid_accuracy = evaluate(X_valid_normalized, y_valid)\n",
    "        train_accuracy = evaluate(X_train_normalized, y_train_shuffled)\n",
    "        print(\"EPOCH {}/{} ...\".format(i+1,EPOCHS))\n",
    "        print(\"Training Accuracy = {:.3f}\".format(train_accuracy))\n",
    "        print(\"Validation Accuracy = {:.3f}\".format(valid_accuracy))\n",
    "        print(\"Batch Size = {}\".format(BATCH_SIZE))\n",
    "        print(\"Time taken = {}\".format(time.time()-start_time))\n",
    "        print(\"Learning rate = {}\".format(rate))\n",
    "    \n",
    "    print(\"\\n\\nNow running Testing\")\n",
    "    test_accuracy = evaluate(X_test_normalized, y_test)\n",
    "    print(\"Testing Accuracy = {:.3f}\".format(test_accuracy))\n",
    "    \n",
    "#     saver.save(sess, './lenet')\n",
    "#     print(\"Model saved\")"
   ]
  },
  {
   "cell_type": "markdown",
   "metadata": {
    "deletable": true,
    "editable": true
   },
   "source": [
    "---\n",
    "\n",
    "## Step 3: Test a Model on New Images\n",
    "\n",
    "To give yourself more insight into how your model is working, download at least five pictures of German traffic signs from the web and use your model to predict the traffic sign type.\n",
    "\n",
    "You may find `signnames.csv` useful as it contains mappings from the class id (integer) to the actual sign name."
   ]
  },
  {
   "cell_type": "markdown",
   "metadata": {
    "deletable": true,
    "editable": true
   },
   "source": [
    "### Load and Output the Images"
   ]
  },
  {
   "cell_type": "code",
   "execution_count": null,
   "metadata": {
    "collapsed": true,
    "deletable": true,
    "editable": true
   },
   "outputs": [],
   "source": [
    "### Load the images and plot them here.\n",
    "### Feel free to use as many code cells as needed."
   ]
  },
  {
   "cell_type": "markdown",
   "metadata": {
    "deletable": true,
    "editable": true
   },
   "source": [
    "### Predict the Sign Type for Each Image"
   ]
  },
  {
   "cell_type": "code",
   "execution_count": null,
   "metadata": {
    "collapsed": true,
    "deletable": true,
    "editable": true
   },
   "outputs": [],
   "source": [
    "### Run the predictions here and use the model to output the prediction for each image.\n",
    "### Make sure to pre-process the images with the same pre-processing pipeline used earlier.\n",
    "### Feel free to use as many code cells as needed."
   ]
  },
  {
   "cell_type": "markdown",
   "metadata": {
    "deletable": true,
    "editable": true
   },
   "source": [
    "### Analyze Performance"
   ]
  },
  {
   "cell_type": "code",
   "execution_count": null,
   "metadata": {
    "collapsed": true,
    "deletable": true,
    "editable": true
   },
   "outputs": [],
   "source": [
    "### Calculate the accuracy for these 5 new images. \n",
    "### For example, if the model predicted 1 out of 5 signs correctly, it's 20% accurate on these new images."
   ]
  },
  {
   "cell_type": "markdown",
   "metadata": {
    "deletable": true,
    "editable": true
   },
   "source": [
    "### Output Top 5 Softmax Probabilities For Each Image Found on the Web"
   ]
  },
  {
   "cell_type": "markdown",
   "metadata": {
    "deletable": true,
    "editable": true
   },
   "source": [
    "For each of the new images, print out the model's softmax probabilities to show the **certainty** of the model's predictions (limit the output to the top 5 probabilities for each image). [`tf.nn.top_k`](https://www.tensorflow.org/versions/r0.12/api_docs/python/nn.html#top_k) could prove helpful here. \n",
    "\n",
    "The example below demonstrates how tf.nn.top_k can be used to find the top k predictions for each image.\n",
    "\n",
    "`tf.nn.top_k` will return the values and indices (class ids) of the top k predictions. So if k=3, for each sign, it'll return the 3 largest probabilities (out of a possible 43) and the correspoding class ids.\n",
    "\n",
    "Take this numpy array as an example. The values in the array represent predictions. The array contains softmax probabilities for five candidate images with six possible classes. `tk.nn.top_k` is used to choose the three classes with the highest probability:\n",
    "\n",
    "```\n",
    "# (5, 6) array\n",
    "a = np.array([[ 0.24879643,  0.07032244,  0.12641572,  0.34763842,  0.07893497,\n",
    "         0.12789202],\n",
    "       [ 0.28086119,  0.27569815,  0.08594638,  0.0178669 ,  0.18063401,\n",
    "         0.15899337],\n",
    "       [ 0.26076848,  0.23664738,  0.08020603,  0.07001922,  0.1134371 ,\n",
    "         0.23892179],\n",
    "       [ 0.11943333,  0.29198961,  0.02605103,  0.26234032,  0.1351348 ,\n",
    "         0.16505091],\n",
    "       [ 0.09561176,  0.34396535,  0.0643941 ,  0.16240774,  0.24206137,\n",
    "         0.09155967]])\n",
    "```\n",
    "\n",
    "Running it through `sess.run(tf.nn.top_k(tf.constant(a), k=3))` produces:\n",
    "\n",
    "```\n",
    "TopKV2(values=array([[ 0.34763842,  0.24879643,  0.12789202],\n",
    "       [ 0.28086119,  0.27569815,  0.18063401],\n",
    "       [ 0.26076848,  0.23892179,  0.23664738],\n",
    "       [ 0.29198961,  0.26234032,  0.16505091],\n",
    "       [ 0.34396535,  0.24206137,  0.16240774]]), indices=array([[3, 0, 5],\n",
    "       [0, 1, 4],\n",
    "       [0, 5, 1],\n",
    "       [1, 3, 5],\n",
    "       [1, 4, 3]], dtype=int32))\n",
    "```\n",
    "\n",
    "Looking just at the first row we get `[ 0.34763842,  0.24879643,  0.12789202]`, you can confirm these are the 3 largest probabilities in `a`. You'll also notice `[3, 0, 5]` are the corresponding indices."
   ]
  },
  {
   "cell_type": "code",
   "execution_count": null,
   "metadata": {
    "collapsed": true,
    "deletable": true,
    "editable": true
   },
   "outputs": [],
   "source": [
    "### Print out the top five softmax probabilities for the predictions on the German traffic sign images found on the web. \n",
    "### Feel free to use as many code cells as needed."
   ]
  },
  {
   "cell_type": "markdown",
   "metadata": {
    "deletable": true,
    "editable": true
   },
   "source": [
    "---\n",
    "\n",
    "## Step 4: Visualize the Neural Network's State with Test Images\n",
    "\n",
    " This Section is not required to complete but acts as an additional excersise for understaning the output of a neural network's weights. While neural networks can be a great learning device they are often referred to as a black box. We can understand what the weights of a neural network look like better by plotting their feature maps. After successfully training your neural network you can see what it's feature maps look like by plotting the output of the network's weight layers in response to a test stimuli image. From these plotted feature maps, it's possible to see what characteristics of an image the network finds interesting. For a sign, maybe the inner network feature maps react with high activation to the sign's boundary outline or to the contrast in the sign's painted symbol.\n",
    "\n",
    " Provided for you below is the function code that allows you to get the visualization output of any tensorflow weight layer you want. The inputs to the function should be a stimuli image, one used during training or a new one you provided, and then the tensorflow variable name that represents the layer's state during the training process, for instance if you wanted to see what the [LeNet lab's](https://classroom.udacity.com/nanodegrees/nd013/parts/fbf77062-5703-404e-b60c-95b78b2f3f9e/modules/6df7ae49-c61c-4bb2-a23e-6527e69209ec/lessons/601ae704-1035-4287-8b11-e2c2716217ad/concepts/d4aca031-508f-4e0b-b493-e7b706120f81) feature maps looked like for it's second convolutional layer you could enter conv2 as the tf_activation variable.\n",
    "\n",
    "For an example of what feature map outputs look like, check out NVIDIA's results in their paper [End-to-End Deep Learning for Self-Driving Cars](https://devblogs.nvidia.com/parallelforall/deep-learning-self-driving-cars/) in the section Visualization of internal CNN State. NVIDIA was able to show that their network's inner weights had high activations to road boundary lines by comparing feature maps from an image with a clear path to one without. Try experimenting with a similar test to show that your trained network's weights are looking for interesting features, whether it's looking at differences in feature maps from images with or without a sign, or even what feature maps look like in a trained network vs a completely untrained one on the same sign image.\n",
    "\n",
    "<figure>\n",
    " <img src=\"visualize_cnn.png\" width=\"380\" alt=\"Combined Image\" />\n",
    " <figcaption>\n",
    " <p></p> \n",
    " <p style=\"text-align: center;\"> Your output should look something like this (above)</p> \n",
    " </figcaption>\n",
    "</figure>\n",
    " <p></p> \n"
   ]
  },
  {
   "cell_type": "code",
   "execution_count": null,
   "metadata": {
    "collapsed": true,
    "deletable": true,
    "editable": true
   },
   "outputs": [],
   "source": [
    "### Visualize your network's feature maps here.\n",
    "### Feel free to use as many code cells as needed.\n",
    "\n",
    "# image_input: the test image being fed into the network to produce the feature maps\n",
    "# tf_activation: should be a tf variable name used during your training procedure that represents the calculated state of a specific weight layer\n",
    "# activation_min/max: can be used to view the activation contrast in more detail, by default matplot sets min and max to the actual min and max values of the output\n",
    "# plt_num: used to plot out multiple different weight feature map sets on the same block, just extend the plt number for each new feature map entry\n",
    "\n",
    "def outputFeatureMap(image_input, tf_activation, activation_min=-1, activation_max=-1 ,plt_num=1):\n",
    "    # Here make sure to preprocess your image_input in a way your network expects\n",
    "    # with size, normalization, ect if needed\n",
    "    # image_input =\n",
    "    # Note: x should be the same name as your network's tensorflow data placeholder variable\n",
    "    # If you get an error tf_activation is not defined it maybe having trouble accessing the variable from inside a function\n",
    "    activation = tf_activation.eval(session=sess,feed_dict={x : image_input})\n",
    "    featuremaps = activation.shape[3]\n",
    "    plt.figure(plt_num, figsize=(15,15))\n",
    "    for featuremap in range(featuremaps):\n",
    "        plt.subplot(6,8, featuremap+1) # sets the number of feature maps to show on each row and column\n",
    "        plt.title('FeatureMap ' + str(featuremap)) # displays the feature map number\n",
    "        if activation_min != -1 & activation_max != -1:\n",
    "            plt.imshow(activation[0,:,:, featuremap], interpolation=\"nearest\", vmin =activation_min, vmax=activation_max, cmap=\"gray\")\n",
    "        elif activation_max != -1:\n",
    "            plt.imshow(activation[0,:,:, featuremap], interpolation=\"nearest\", vmax=activation_max, cmap=\"gray\")\n",
    "        elif activation_min !=-1:\n",
    "            plt.imshow(activation[0,:,:, featuremap], interpolation=\"nearest\", vmin=activation_min, cmap=\"gray\")\n",
    "        else:\n",
    "            plt.imshow(activation[0,:,:, featuremap], interpolation=\"nearest\", cmap=\"gray\")"
   ]
  },
  {
   "cell_type": "markdown",
   "metadata": {
    "deletable": true,
    "editable": true
   },
   "source": [
    "### Question 9\n",
    "\n",
    "Discuss how you used the visual output of your trained network's feature maps to show that it had learned to look for interesting characteristics in traffic sign images\n"
   ]
  },
  {
   "cell_type": "markdown",
   "metadata": {
    "deletable": true,
    "editable": true
   },
   "source": [
    "**Answer:**"
   ]
  },
  {
   "cell_type": "markdown",
   "metadata": {
    "deletable": true,
    "editable": true
   },
   "source": [
    "> **Note**: Once you have completed all of the code implementations and successfully answered each question above, you may finalize your work by exporting the iPython Notebook as an HTML document. You can do this by using the menu above and navigating to  \\n\",\n",
    "    \"**File -> Download as -> HTML (.html)**. Include the finished document along with this notebook as your submission."
   ]
  },
  {
   "cell_type": "markdown",
   "metadata": {
    "deletable": true,
    "editable": true
   },
   "source": [
    "### Project Writeup\n",
    "\n",
    "Once you have completed the code implementation, document your results in a project writeup using this [template](https://github.com/udacity/CarND-Traffic-Sign-Classifier-Project/blob/master/writeup_template.md) as a guide. The writeup can be in a markdown or pdf file. "
   ]
  }
 ],
 "metadata": {
  "anaconda-cloud": {},
  "kernelspec": {
   "display_name": "Python 3",
   "language": "python",
   "name": "python3"
  },
  "language_info": {
   "codemirror_mode": {
    "name": "ipython",
    "version": 3
   },
   "file_extension": ".py",
   "mimetype": "text/x-python",
   "name": "python",
   "nbconvert_exporter": "python",
   "pygments_lexer": "ipython3",
   "version": "3.5.2"
  },
  "widgets": {
   "state": {},
   "version": "1.1.2"
  }
 },
 "nbformat": 4,
 "nbformat_minor": 1
}
